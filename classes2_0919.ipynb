{
  "nbformat": 4,
  "nbformat_minor": 0,
  "metadata": {
    "colab": {
      "provenance": [],
      "toc_visible": true,
      "authorship_tag": "ABX9TyMNSpANtX5NzWC6aBr+nkyt",
      "include_colab_link": true
    },
    "kernelspec": {
      "name": "python3",
      "display_name": "Python 3"
    },
    "language_info": {
      "name": "python"
    }
  },
  "cells": [
    {
      "cell_type": "markdown",
      "metadata": {
        "id": "view-in-github",
        "colab_type": "text"
      },
      "source": [
        "<a href=\"https://colab.research.google.com/github/kaihe/python-ML-AI-tutorial/blob/kaihe_tutorial/classes2_0919.ipynb\" target=\"_parent\"><img src=\"https://colab.research.google.com/assets/colab-badge.svg\" alt=\"Open In Colab\"/></a>"
      ]
    },
    {
      "cell_type": "markdown",
      "source": [
        "## Containers"
      ],
      "metadata": {
        "id": "Ll4qAGmyhkUc"
      }
    },
    {
      "cell_type": "markdown",
      "source": [
        "Containers are data structures that hold multiple items. They allow you to group related data together and perform operations on the group as a whole. Based on how containers manage data, main types of containers in Python:\n",
        "\n",
        "* lists\n",
        "* tuples\n",
        "* sets\n",
        "* dictionaries"
      ],
      "metadata": {
        "id": "JspRME-I0j6M"
      }
    },
    {
      "cell_type": "markdown",
      "source": [
        "### List"
      ],
      "metadata": {
        "id": "XymBFgYr0VkU"
      }
    },
    {
      "cell_type": "code",
      "source": [
        "fruits = [\"apple\", \"banana\", \"cherry\"]\n",
        "print(fruits)"
      ],
      "metadata": {
        "colab": {
          "base_uri": "https://localhost:8080/"
        },
        "id": "Jgiq5_jl1Bbg",
        "outputId": "1aaa81af-e5b8-4634-fe1f-bd633ba2f428"
      },
      "execution_count": 19,
      "outputs": [
        {
          "output_type": "stream",
          "name": "stdout",
          "text": [
            "['apple', 'banana', 'cherry']\n"
          ]
        }
      ]
    },
    {
      "cell_type": "markdown",
      "source": [
        "indexing: Explain that elements in a list are accessed using their index, which starts at 0."
      ],
      "metadata": {
        "id": "so6bUeX13AZH"
      }
    },
    {
      "cell_type": "code",
      "source": [
        "print(fruits[0])\n",
        "print(fruits[1])\n",
        "print(fruits[2])"
      ],
      "metadata": {
        "id": "jrFdB5ce2qs1"
      },
      "execution_count": null,
      "outputs": []
    },
    {
      "cell_type": "markdown",
      "source": [
        "Negative Indexing: Show how to access elements from the end of the list using negative indices."
      ],
      "metadata": {
        "id": "vim_vfIL3FwU"
      }
    },
    {
      "cell_type": "code",
      "source": [
        "print(fruits[-1])\n",
        "print(fruits[-2])"
      ],
      "metadata": {
        "id": "sKEnWefw3IoK"
      },
      "execution_count": null,
      "outputs": []
    },
    {
      "cell_type": "markdown",
      "source": [
        "Slicing: Extract a portion of a list using slicing."
      ],
      "metadata": {
        "id": "BHmrcuGO3N-1"
      }
    },
    {
      "cell_type": "code",
      "source": [
        "print(fruits[1:3])\n",
        "print(fruits[:2])\n",
        "print(fruits[1:])"
      ],
      "metadata": {
        "id": "ta-3QdHf28OR"
      },
      "execution_count": null,
      "outputs": []
    },
    {
      "cell_type": "markdown",
      "source": [
        "Modifying list"
      ],
      "metadata": {
        "id": "FbqGivIc3blq"
      }
    },
    {
      "cell_type": "code",
      "source": [
        "fruits[1] = \"blueberry\"\n",
        "print(fruits)"
      ],
      "metadata": {
        "id": "3pus9lCe3aW6"
      },
      "execution_count": null,
      "outputs": []
    },
    {
      "cell_type": "code",
      "source": [
        "fruits.append(\"date\")\n",
        "print(fruits)"
      ],
      "metadata": {
        "id": "okdN-tOQ3k_6"
      },
      "execution_count": null,
      "outputs": []
    },
    {
      "cell_type": "code",
      "source": [
        "fruits.insert(1, \"banana\")\n",
        "print(fruits)"
      ],
      "metadata": {
        "id": "B31I-K4I3mED"
      },
      "execution_count": null,
      "outputs": []
    },
    {
      "cell_type": "code",
      "source": [
        "fruits.remove(\"cherry\")\n",
        "print(fruits)"
      ],
      "metadata": {
        "id": "HjEaNIcO3s2V"
      },
      "execution_count": null,
      "outputs": []
    },
    {
      "cell_type": "code",
      "source": [
        "fruits.pop(2)\n",
        "print(fruits)"
      ],
      "metadata": {
        "id": "fqN9Fl9B3tZg"
      },
      "execution_count": null,
      "outputs": []
    },
    {
      "cell_type": "code",
      "source": [
        "fruits.clear()\n",
        "print(fruits)"
      ],
      "metadata": {
        "id": "Zd7eVOCL3wU2"
      },
      "execution_count": null,
      "outputs": []
    },
    {
      "cell_type": "markdown",
      "source": [
        "List Operations"
      ],
      "metadata": {
        "id": "T2YsKGKi321g"
      }
    },
    {
      "cell_type": "code",
      "source": [
        "more_fruits = [\"grape\", \"kiwi\"]\n",
        "all_fruits = fruits + more_fruits\n",
        "print(all_fruits)"
      ],
      "metadata": {
        "id": "3ksA44n934LS"
      },
      "execution_count": null,
      "outputs": []
    },
    {
      "cell_type": "code",
      "source": [
        "repeated_fruits = fruits * 2\n",
        "print(repeated_fruits)"
      ],
      "metadata": {
        "id": "G7FUT82Y38UU"
      },
      "execution_count": null,
      "outputs": []
    },
    {
      "cell_type": "markdown",
      "source": [
        "List methods"
      ],
      "metadata": {
        "id": "OAMj2kOb4VBV"
      }
    },
    {
      "cell_type": "code",
      "source": [
        "print(len(fruits))"
      ],
      "metadata": {
        "id": "WqZL2vnQ4YcC"
      },
      "execution_count": null,
      "outputs": []
    },
    {
      "cell_type": "code",
      "source": [
        "fruits.sort()\n",
        "print(fruits)"
      ],
      "metadata": {
        "id": "FdXB05o44d7k"
      },
      "execution_count": null,
      "outputs": []
    },
    {
      "cell_type": "code",
      "source": [
        "fruits.reverse()\n",
        "print(fruits)"
      ],
      "metadata": {
        "id": "Zfe9kCIs4had"
      },
      "execution_count": null,
      "outputs": []
    },
    {
      "cell_type": "code",
      "source": [
        "print(fruits.count(\"banana\"))"
      ],
      "metadata": {
        "colab": {
          "base_uri": "https://localhost:8080/"
        },
        "id": "FhARugVA4iNb",
        "outputId": "9e099bcb-eb12-4188-ada6-a875e156b082"
      },
      "execution_count": 20,
      "outputs": [
        {
          "output_type": "stream",
          "name": "stdout",
          "text": [
            "1\n"
          ]
        }
      ]
    },
    {
      "cell_type": "code",
      "source": [],
      "metadata": {
        "id": "HpfwsKkc41vj"
      },
      "execution_count": null,
      "outputs": []
    },
    {
      "cell_type": "markdown",
      "source": [
        "### List comprehensions"
      ],
      "metadata": {
        "id": "YPnFHHysZqvL"
      }
    },
    {
      "cell_type": "markdown",
      "source": [
        "When programming, frequently we want to transform one type of data into another. As a simple example, consider the following code that computes square numbers:"
      ],
      "metadata": {
        "id": "mVoJoSmLZxIS"
      }
    },
    {
      "cell_type": "code",
      "execution_count": null,
      "metadata": {
        "colab": {
          "base_uri": "https://localhost:8080/",
          "height": 34
        },
        "id": "IVNEwoMXL9gL",
        "outputId": "d571445b-055d-45f0-f800-24fd76ceec5a"
      },
      "outputs": [
        {
          "name": "stdout",
          "output_type": "stream",
          "text": [
            "[0, 1, 4, 9, 16]\n"
          ]
        }
      ],
      "source": [
        "nums = [0, 1, 2, 3, 4]\n",
        "squares = []\n",
        "for x in nums:\n",
        "    squares.append(x ** 2)\n",
        "print(squares)"
      ]
    },
    {
      "cell_type": "markdown",
      "source": [
        "You can make this code simpler using a list comprehension:"
      ],
      "metadata": {
        "id": "Y7ZW5iNiaH51"
      }
    },
    {
      "cell_type": "code",
      "execution_count": null,
      "metadata": {
        "colab": {
          "base_uri": "https://localhost:8080/",
          "height": 34
        },
        "id": "kZxsUfV6L9gR",
        "outputId": "4254a7d4-58ba-4f70-a963-20c46b485b72"
      },
      "outputs": [
        {
          "name": "stdout",
          "output_type": "stream",
          "text": [
            "[0, 1, 4, 9, 16]\n"
          ]
        }
      ],
      "source": [
        "nums = [0, 1, 2, 3, 4]\n",
        "squares = [x ** 2 for x in nums]\n",
        "print(squares)"
      ]
    },
    {
      "cell_type": "markdown",
      "source": [
        "List comprehensions can also contain conditions:"
      ],
      "metadata": {
        "id": "BZNUTBElal4C"
      }
    },
    {
      "cell_type": "code",
      "execution_count": null,
      "metadata": {
        "colab": {
          "base_uri": "https://localhost:8080/",
          "height": 34
        },
        "id": "yUtgOyyYL9gV",
        "outputId": "1ae7ab58-8119-44dc-8e57-fda09197d026"
      },
      "outputs": [
        {
          "name": "stdout",
          "output_type": "stream",
          "text": [
            "[0, 4, 16]\n"
          ]
        }
      ],
      "source": [
        "nums = [0, 1, 2, 3, 4]\n",
        "even_squares = [x ** 2 for x in nums if x % 2 == 0]\n",
        "print(even_squares)"
      ]
    },
    {
      "cell_type": "markdown",
      "source": [
        "### Set"
      ],
      "metadata": {
        "id": "_uIk59zGbET0"
      }
    },
    {
      "cell_type": "markdown",
      "source": [
        "a set is an unordered collection of unique items. Sets are mutable, but they do not allow duplicate values."
      ],
      "metadata": {
        "id": "5J4dHk-s5hk8"
      }
    },
    {
      "cell_type": "code",
      "source": [
        "# list allows duplicated elements\n",
        "fruits = [\"apple\", \"banana\", \"cherry\", \"apple\"]\n",
        "print(fruits)"
      ],
      "metadata": {
        "colab": {
          "base_uri": "https://localhost:8080/"
        },
        "id": "KuDpgUg_5qtm",
        "outputId": "508df31d-5f89-4f30-8a99-f198d56244e3"
      },
      "execution_count": 21,
      "outputs": [
        {
          "output_type": "stream",
          "name": "stdout",
          "text": [
            "['apple', 'banana', 'cherry', 'apple']\n"
          ]
        }
      ]
    },
    {
      "cell_type": "code",
      "source": [
        "# list allows duplicated elements\n",
        "fruits = set([\"apple\", \"banana\", \"cherry\", \"apple\"])\n",
        "print(fruits)"
      ],
      "metadata": {
        "colab": {
          "base_uri": "https://localhost:8080/"
        },
        "id": "xApOZf7t57Wb",
        "outputId": "7d0de3fa-3191-4340-cf14-964f428e3a89"
      },
      "execution_count": 22,
      "outputs": [
        {
          "output_type": "stream",
          "name": "stdout",
          "text": [
            "{'apple', 'cherry', 'banana'}\n"
          ]
        }
      ]
    },
    {
      "cell_type": "code",
      "source": [
        "print(\"apple\" in fruits)\n",
        "print(\"grape\" in fruits)"
      ],
      "metadata": {
        "id": "RYDA7a5R6Qiy"
      },
      "execution_count": null,
      "outputs": []
    },
    {
      "cell_type": "markdown",
      "source": [
        " Modifying Sets"
      ],
      "metadata": {
        "id": "IyamIBJE6UZB"
      }
    },
    {
      "cell_type": "code",
      "source": [
        "fruits.add(\"date\")\n",
        "print(fruits)"
      ],
      "metadata": {
        "colab": {
          "base_uri": "https://localhost:8080/"
        },
        "id": "8KxILMv_6Ryn",
        "outputId": "3f6edff9-f7a2-4b5a-dbce-c10855422029"
      },
      "execution_count": 23,
      "outputs": [
        {
          "output_type": "stream",
          "name": "stdout",
          "text": [
            "{'date', 'apple', 'cherry', 'banana'}\n"
          ]
        }
      ]
    },
    {
      "cell_type": "code",
      "source": [
        "fruits.update([\"grape\", \"kiwi\"])\n",
        "print(fruits)"
      ],
      "metadata": {
        "colab": {
          "base_uri": "https://localhost:8080/"
        },
        "id": "69hdB1Li63hx",
        "outputId": "111593da-1b7a-42fa-9a2d-70c42130a185"
      },
      "execution_count": 24,
      "outputs": [
        {
          "output_type": "stream",
          "name": "stdout",
          "text": [
            "{'banana', 'kiwi', 'apple', 'cherry', 'date', 'grape'}\n"
          ]
        }
      ]
    },
    {
      "cell_type": "code",
      "source": [
        "fruits.remove(\"cherry\")\n",
        "print(fruits)"
      ],
      "metadata": {
        "id": "LLbDXz_z65IG"
      },
      "execution_count": null,
      "outputs": []
    },
    {
      "cell_type": "code",
      "source": [
        "fruits.discard(\"cherry\")\n",
        "print(fruits)"
      ],
      "metadata": {
        "id": "C_diHvK168NV"
      },
      "execution_count": null,
      "outputs": []
    },
    {
      "cell_type": "code",
      "source": [
        "removed_fruit = fruits.pop()\n",
        "print(removed_fruit)\n",
        "print(fruits)"
      ],
      "metadata": {
        "colab": {
          "base_uri": "https://localhost:8080/"
        },
        "id": "3DzLaFUh6-gl",
        "outputId": "7cc1d699-b87c-427a-f8fa-6ddc4e3f773e"
      },
      "execution_count": 25,
      "outputs": [
        {
          "output_type": "stream",
          "name": "stdout",
          "text": [
            "banana\n",
            "{'kiwi', 'apple', 'cherry', 'date', 'grape'}\n"
          ]
        }
      ]
    },
    {
      "cell_type": "code",
      "source": [
        "fruits.clear()\n",
        "print(fruits)"
      ],
      "metadata": {
        "id": "nbtQ5Pbz7CEx"
      },
      "execution_count": null,
      "outputs": []
    },
    {
      "cell_type": "markdown",
      "source": [
        "Set operations"
      ],
      "metadata": {
        "id": "awz4VHoM6tyy"
      }
    },
    {
      "cell_type": "code",
      "source": [
        "set1 = {1, 2, 3}\n",
        "set2 = {3, 4, 5}\n",
        "union_set = set1.union(set2)\n",
        "print(union_set)"
      ],
      "metadata": {
        "colab": {
          "base_uri": "https://localhost:8080/"
        },
        "id": "VOcUOpRt6g-S",
        "outputId": "7b2217c6-0c29-4094-a0bb-8976e09478f6"
      },
      "execution_count": 26,
      "outputs": [
        {
          "output_type": "stream",
          "name": "stdout",
          "text": [
            "{1, 2, 3, 4, 5}\n"
          ]
        }
      ]
    },
    {
      "cell_type": "code",
      "source": [
        "intersection_set = set1.intersection(set2)\n",
        "print(intersection_set)"
      ],
      "metadata": {
        "colab": {
          "base_uri": "https://localhost:8080/"
        },
        "id": "eIAreBZW6lPF",
        "outputId": "6f846d9c-3646-43f1-a70e-08205499d222"
      },
      "execution_count": 27,
      "outputs": [
        {
          "output_type": "stream",
          "name": "stdout",
          "text": [
            "{3}\n"
          ]
        }
      ]
    },
    {
      "cell_type": "code",
      "source": [
        "difference_set = set1.difference(set2)\n",
        "print(difference_set)"
      ],
      "metadata": {
        "colab": {
          "base_uri": "https://localhost:8080/"
        },
        "id": "_pG0ME2W6ne3",
        "outputId": "a9b5ea4f-f27e-45bb-a017-84966a573fd0"
      },
      "execution_count": 28,
      "outputs": [
        {
          "output_type": "stream",
          "name": "stdout",
          "text": [
            "{1, 2}\n"
          ]
        }
      ]
    },
    {
      "cell_type": "code",
      "source": [
        "symmetric_difference_set = set1.symmetric_difference(set2)\n",
        "print(symmetric_difference_set)"
      ],
      "metadata": {
        "colab": {
          "base_uri": "https://localhost:8080/"
        },
        "id": "guuRWeYH6o_L",
        "outputId": "7ec9a5c6-07de-49d3-95a6-6f1564ec298d"
      },
      "execution_count": 29,
      "outputs": [
        {
          "output_type": "stream",
          "name": "stdout",
          "text": [
            "{1, 2, 4, 5}\n"
          ]
        }
      ]
    },
    {
      "cell_type": "markdown",
      "source": [
        "### Dict"
      ],
      "metadata": {
        "id": "95DVa9XTcob1"
      }
    },
    {
      "cell_type": "markdown",
      "source": [
        "A dictionary is a collection of key-value pairs, where each key is unique and associated with a value."
      ],
      "metadata": {
        "id": "CcRHtXuNcq9i"
      }
    },
    {
      "cell_type": "code",
      "source": [
        "student = {\n",
        "    \"name\": \"Alice\",\n",
        "    \"age\": 16,\n",
        "    \"grade\": \"10th\"\n",
        "}\n",
        "\n",
        "print(student[\"name\"])  # This will print \"Alice\"\n",
        "print(student[\"age\"])   # This will print 16"
      ],
      "metadata": {
        "colab": {
          "base_uri": "https://localhost:8080/"
        },
        "id": "Tbbo0G4Nc3HO",
        "outputId": "d285813e-b0df-4111-9e4e-cac3a977a019"
      },
      "execution_count": 3,
      "outputs": [
        {
          "output_type": "stream",
          "name": "stdout",
          "text": [
            "Alice\n",
            "16\n",
            "{'name': 'Alice', 'age': 16, 'grade': '10th'}\n"
          ]
        }
      ]
    },
    {
      "cell_type": "code",
      "source": [
        "print(student)"
      ],
      "metadata": {
        "id": "uN7SoLzDdCZT"
      },
      "execution_count": null,
      "outputs": []
    },
    {
      "cell_type": "code",
      "source": [
        "# modify value\n",
        "student[\"age\"] += 1\n",
        "print(student[\"age\"])  # This will print 17"
      ],
      "metadata": {
        "colab": {
          "base_uri": "https://localhost:8080/"
        },
        "id": "5YLEKqUOdHrg",
        "outputId": "0cae1097-c1d9-45dc-d371-ff2ecdcda6ee"
      },
      "execution_count": 4,
      "outputs": [
        {
          "output_type": "stream",
          "name": "stdout",
          "text": [
            "17\n"
          ]
        }
      ]
    },
    {
      "cell_type": "code",
      "source": [
        "# remove key\n",
        "del student[\"grade\"]\n",
        "print(student)  # This will no longer include \"grade\": \"10th\""
      ],
      "metadata": {
        "colab": {
          "base_uri": "https://localhost:8080/"
        },
        "id": "strA8NDLdWzA",
        "outputId": "c3e3e5c0-8095-43af-b5bc-fd313ea0c2ae"
      },
      "execution_count": 5,
      "outputs": [
        {
          "output_type": "stream",
          "name": "stdout",
          "text": [
            "{'name': 'Alice', 'age': 17}\n"
          ]
        }
      ]
    },
    {
      "cell_type": "markdown",
      "source": [
        "Iterating Over a Dictionary"
      ],
      "metadata": {
        "id": "ROp6w66tdbOE"
      }
    },
    {
      "cell_type": "code",
      "source": [
        "student = {\n",
        "    \"name\": \"Alice\",\n",
        "    \"age\": 16,\n",
        "    \"grade\": \"10th\"\n",
        "}\n",
        "\n",
        "# iterate over keys\n",
        "for key in student.keys():\n",
        "    print(key)  # This will print \"name\", \"age\", \"school\"\n",
        "\n"
      ],
      "metadata": {
        "colab": {
          "base_uri": "https://localhost:8080/"
        },
        "id": "kVIZ_5DLdaaB",
        "outputId": "9c19720a-7e20-437c-d02a-c7156babdf00"
      },
      "execution_count": 12,
      "outputs": [
        {
          "output_type": "stream",
          "name": "stdout",
          "text": [
            "name\n",
            "age\n",
            "grade\n"
          ]
        }
      ]
    },
    {
      "cell_type": "code",
      "source": [
        "# iterate over values\n",
        "for value in student.values():\n",
        "    print(value)  # This will print \"Alice\", 17, \"High School A\""
      ],
      "metadata": {
        "colab": {
          "base_uri": "https://localhost:8080/"
        },
        "id": "5lNUXTCQeCfG",
        "outputId": "bc023c88-298c-4b3e-fc3b-a6873537b041"
      },
      "execution_count": 8,
      "outputs": [
        {
          "output_type": "stream",
          "name": "stdout",
          "text": [
            "Alice\n",
            "17\n"
          ]
        }
      ]
    },
    {
      "cell_type": "code",
      "source": [
        "# iterate over key, value pairs\n",
        "for key, value in student.items():\n",
        "    print(f\"{key}: {value}\")  # This will print \"name: Alice\", \"age: 17\", \"school: High School A\""
      ],
      "metadata": {
        "colab": {
          "base_uri": "https://localhost:8080/"
        },
        "id": "z1Uzq1MYeDIN",
        "outputId": "ecfa8a96-082e-4ef4-8981-e1dd777c2060"
      },
      "execution_count": 9,
      "outputs": [
        {
          "output_type": "stream",
          "name": "stdout",
          "text": [
            "name: Alice\n",
            "age: 17\n"
          ]
        }
      ]
    },
    {
      "cell_type": "markdown",
      "source": [
        "Checking for Existence"
      ],
      "metadata": {
        "id": "M5SZfxvfedU9"
      }
    },
    {
      "cell_type": "code",
      "source": [
        "if \"name\" in student:\n",
        "    print(\"Name exists in the dictionary.\")"
      ],
      "metadata": {
        "colab": {
          "base_uri": "https://localhost:8080/"
        },
        "id": "bt85gbU0ek7O",
        "outputId": "f66b1b5b-4a4e-40a8-82a3-c4f590a345ae"
      },
      "execution_count": 10,
      "outputs": [
        {
          "output_type": "stream",
          "name": "stdout",
          "text": [
            "Name exists in the dictionary.\n"
          ]
        }
      ]
    },
    {
      "cell_type": "code",
      "source": [
        "if 16 in student.values():\n",
        "  print(\"we have a student 16 years old\")"
      ],
      "metadata": {
        "colab": {
          "base_uri": "https://localhost:8080/"
        },
        "id": "tLmeXjXBerAU",
        "outputId": "741827a8-8914-4894-c917-ecad1cc08700"
      },
      "execution_count": 13,
      "outputs": [
        {
          "output_type": "stream",
          "name": "stdout",
          "text": [
            "we have a student 16 years old\n"
          ]
        }
      ]
    },
    {
      "cell_type": "markdown",
      "source": [
        "### Counter\n"
      ],
      "metadata": {
        "id": "Nr46KNWEe2Ya"
      }
    },
    {
      "cell_type": "markdown",
      "source": [
        "\n",
        "Counter is a subclass of dict that is used to count hashable objects. It is a collection where elements are stored as dictionary keys and their counts are stored as dictionary values.\n",
        "\n",
        "Use Case: Use an example like counting the frequency of words in a sentence or the number of times each item appears in a list."
      ],
      "metadata": {
        "id": "0eNg1_bgfUdn"
      }
    },
    {
      "cell_type": "code",
      "source": [
        "text = '''\n",
        "The quick brown fox jumps over the lazy dog\n",
        "The dog was not amused\n",
        "The fox and the dog became friends\n",
        "The quick brown fox jumps again'''\n",
        "\n",
        "# count frequency of each word in text\n",
        "from collections import Counter\n",
        "\n",
        "# Convert the text to lowercase to ensure case-insensitive counting\n",
        "text = text.lower()\n",
        "\n",
        "# Split the text into words\n",
        "words = text.split()\n",
        "\n",
        "# Create a Counter from the list of words\n",
        "word_count = Counter(words)\n",
        "\n",
        "# Print the frequency of each word\n",
        "for word, count in word_count.most_common():\n",
        "    print(f\"{word}: {count}\")"
      ],
      "metadata": {
        "colab": {
          "base_uri": "https://localhost:8080/"
        },
        "id": "M9xX1rOhfX9Q",
        "outputId": "58892988-b7e3-4608-c1e6-1f2a44a86292"
      },
      "execution_count": 17,
      "outputs": [
        {
          "output_type": "stream",
          "name": "stdout",
          "text": [
            "the: 6\n",
            "fox: 3\n",
            "dog: 3\n",
            "quick: 2\n",
            "brown: 2\n",
            "jumps: 2\n",
            "over: 1\n",
            "lazy: 1\n",
            "was: 1\n",
            "not: 1\n",
            "amused: 1\n",
            "and: 1\n",
            "became: 1\n",
            "friends: 1\n",
            "again: 1\n"
          ]
        }
      ]
    },
    {
      "cell_type": "markdown",
      "source": [
        "## Functions"
      ],
      "metadata": {
        "id": "4dlmj8hsMI4M"
      }
    },
    {
      "cell_type": "markdown",
      "source": [
        "Function is a block of code that performs a specific task. Functions can take input (arguments), process it, and return output (return value).\n",
        "\n",
        "Think it like a vending machine. You put in money (input), press a button (function call), and get a snack (output)."
      ],
      "metadata": {
        "id": "8fkng3sbMIKY"
      }
    },
    {
      "cell_type": "code",
      "source": [
        "def greet():\n",
        "    print(\"Hello, World!\")"
      ],
      "metadata": {
        "id": "VRkqRaQlPmbS"
      },
      "execution_count": 30,
      "outputs": []
    },
    {
      "cell_type": "code",
      "source": [
        "greet()"
      ],
      "metadata": {
        "id": "jLWAf5Gp8ar9"
      },
      "execution_count": null,
      "outputs": []
    },
    {
      "cell_type": "markdown",
      "source": [
        "Parameters:  inputs to a function."
      ],
      "metadata": {
        "id": "rsoLuRZFPzuR"
      }
    },
    {
      "cell_type": "code",
      "source": [
        "def greet(name=\"world\"):\n",
        "    print(f\"Hello, {name}!\")"
      ],
      "metadata": {
        "id": "lM6Q_RjvP2g1"
      },
      "execution_count": 33,
      "outputs": []
    },
    {
      "cell_type": "code",
      "source": [
        "greet(\"Alice\")  # This will print \"Hello, Alice!\"\n",
        "greet(\"Bob\")    # This will print \"Hello, Bob!\"\n",
        "greet()"
      ],
      "metadata": {
        "colab": {
          "base_uri": "https://localhost:8080/"
        },
        "id": "H96rZZs686M3",
        "outputId": "089d10ad-3cdc-450b-e73e-640a2ac97b93"
      },
      "execution_count": 34,
      "outputs": [
        {
          "output_type": "stream",
          "name": "stdout",
          "text": [
            "Hello, Alice!\n",
            "Hello, Bob!\n",
            "Hello, world!\n"
          ]
        }
      ]
    },
    {
      "cell_type": "markdown",
      "source": [
        "Multiple Return Values"
      ],
      "metadata": {
        "id": "ydiIsRErQEJw"
      }
    },
    {
      "cell_type": "code",
      "source": [
        "def get_name_and_age():\n",
        "    return \"Alice\", 25\n",
        "\n",
        "name, age = get_name_and_age()\n",
        "print(f\"Name: {name}, Age: {age}\")  # This will print \"Name: Alice, Age: 25\""
      ],
      "metadata": {
        "colab": {
          "base_uri": "https://localhost:8080/"
        },
        "id": "tuuij-GZQOi4",
        "outputId": "c642b624-0f34-4199-c9c0-fb0277c96c36"
      },
      "execution_count": 39,
      "outputs": [
        {
          "output_type": "stream",
          "name": "stdout",
          "text": [
            "Name: Alice, Age: 25\n"
          ]
        }
      ]
    },
    {
      "cell_type": "markdown",
      "source": [
        "### Execise"
      ],
      "metadata": {
        "id": "QU5Wy-5F97VX"
      }
    },
    {
      "cell_type": "code",
      "source": [
        "def add(a, b):\n",
        "    return a + b\n",
        "\n",
        "def subtract(a, b):\n",
        "    return a - b\n",
        "\n",
        "def multiply(a, b):\n",
        "    return a * b\n",
        "\n",
        "def divide(a, b):\n",
        "    if b == 0:\n",
        "        return \"Error: Division by zero\"\n",
        "    return a / b\n",
        "\n",
        "# Example usage\n",
        "num1 = float(input(\"Enter the first number: \"))\n",
        "operator = input(\"Enter the operator (+, -, *, /): \")\n",
        "num2 = float(input(\"Enter the second number: \"))\n",
        "\n",
        "if operator == '+':\n",
        "    result = add(num1, num2)\n",
        "elif operator == '-':\n",
        "    result = subtract(num1, num2)\n",
        "elif operator == '*':\n",
        "    result = multiply(num1, num2)\n",
        "elif operator == '/':\n",
        "    result = divide(num1, num2)\n",
        "else:\n",
        "    result = \"Invalid operator\"\n",
        "\n",
        "print(f\"Result: {result}\")"
      ],
      "metadata": {
        "colab": {
          "base_uri": "https://localhost:8080/"
        },
        "id": "KIAkK5KD90Nx",
        "outputId": "28be9081-13e0-4147-934f-1a834b48dcf8"
      },
      "execution_count": 40,
      "outputs": [
        {
          "output_type": "stream",
          "name": "stdout",
          "text": [
            "Enter the first number: 1\n",
            "Enter the operator (+, -, *, /): -\n",
            "Enter the second number: 100\n",
            "Result: -99.0\n"
          ]
        }
      ]
    },
    {
      "cell_type": "markdown",
      "source": [
        "### Nested functions"
      ],
      "metadata": {
        "id": "dER4Enna-PY0"
      }
    },
    {
      "cell_type": "markdown",
      "source": [
        "a nested function is a function defined inside another function. The inner function can access variables from the outer function, but it is not accessible outside the outer function."
      ],
      "metadata": {
        "id": "7-jy6MoP-fCE"
      }
    },
    {
      "cell_type": "code",
      "source": [
        "def process_data(data):\n",
        "    def clean_data():\n",
        "        return [int(item.strip()) for item in data]\n",
        "\n",
        "    def calculate_average(cleaned_data):\n",
        "        return sum(cleaned_data) / len(cleaned_data)\n",
        "\n",
        "    cleaned_data = clean_data()\n",
        "    average = calculate_average(cleaned_data)\n",
        "\n",
        "    print(f\"Cleaned Data: {cleaned_data}\")\n",
        "    print(f\"Average: {average}\")\n",
        "\n",
        "\n",
        "data = [\" 10 \", \" 20 \", \" 30 \"]\n",
        "process_data()"
      ],
      "metadata": {
        "colab": {
          "base_uri": "https://localhost:8080/"
        },
        "id": "Z3GELSYU-hKe",
        "outputId": "1299941f-babf-4931-a7dd-2a70499145f8"
      },
      "execution_count": 43,
      "outputs": [
        {
          "output_type": "stream",
          "name": "stdout",
          "text": [
            "Cleaned Data: [10, 20, 30]\n",
            "Average: 20.0\n"
          ]
        }
      ]
    },
    {
      "cell_type": "code",
      "source": [
        "def process_data(data):\n",
        "    def clean_data():\n",
        "        return [int(item.strip()) for item in data]\n",
        "\n",
        "    def calculate_average(cleaned_data):\n",
        "        return sum(cleaned_data) / len(cleaned_data)\n",
        "\n",
        "    cleaned_data = clean_data()\n",
        "    average = calculate_average(cleaned_data)\n",
        "\n",
        "    print(f\"Cleaned Data: {cleaned_data}\")\n",
        "    print(f\"Average: {average}\")\n",
        "\n",
        "data = [10,20,30]\n",
        "calculate_average(data)"
      ],
      "metadata": {
        "colab": {
          "base_uri": "https://localhost:8080/",
          "height": 176
        },
        "id": "YFFIhxwW_Luk",
        "outputId": "c41246e0-671d-4e68-d839-6100b2eb6320"
      },
      "execution_count": 44,
      "outputs": [
        {
          "output_type": "error",
          "ename": "NameError",
          "evalue": "name 'calculate_average' is not defined",
          "traceback": [
            "\u001b[0;31m---------------------------------------------------------------------------\u001b[0m",
            "\u001b[0;31mNameError\u001b[0m                                 Traceback (most recent call last)",
            "\u001b[0;32m<ipython-input-44-e5f85bf2f7bb>\u001b[0m in \u001b[0;36m<cell line: 15>\u001b[0;34m()\u001b[0m\n\u001b[1;32m     13\u001b[0m \u001b[0;34m\u001b[0m\u001b[0m\n\u001b[1;32m     14\u001b[0m \u001b[0mdata\u001b[0m \u001b[0;34m=\u001b[0m \u001b[0;34m[\u001b[0m\u001b[0;36m10\u001b[0m\u001b[0;34m,\u001b[0m\u001b[0;36m20\u001b[0m\u001b[0;34m,\u001b[0m\u001b[0;36m30\u001b[0m\u001b[0;34m]\u001b[0m\u001b[0;34m\u001b[0m\u001b[0;34m\u001b[0m\u001b[0m\n\u001b[0;32m---> 15\u001b[0;31m \u001b[0mcalculate_average\u001b[0m\u001b[0;34m(\u001b[0m\u001b[0mdata\u001b[0m\u001b[0;34m)\u001b[0m\u001b[0;34m\u001b[0m\u001b[0;34m\u001b[0m\u001b[0m\n\u001b[0m",
            "\u001b[0;31mNameError\u001b[0m: name 'calculate_average' is not defined"
          ]
        }
      ]
    },
    {
      "cell_type": "markdown",
      "source": [
        "## Class"
      ],
      "metadata": {
        "id": "YQ3hkEadA36j"
      }
    },
    {
      "cell_type": "markdown",
      "source": [],
      "metadata": {
        "id": "oX3_4VfFA8ES"
      }
    },
    {
      "cell_type": "markdown",
      "source": [
        "### Basic class"
      ],
      "metadata": {
        "id": "v0HvFmWGINI0"
      }
    },
    {
      "cell_type": "code",
      "source": [
        "class Student:\n",
        "    def __init__(self, name, age, grade):\n",
        "        self.name = name\n",
        "        self.age = age\n",
        "        self.grade = grade\n",
        "        self.courses = []\n",
        "\n",
        "    def add_course(self, course):\n",
        "        self.courses.append(course)\n",
        "        print(f\"{self.name} has enrolled in {course}.\")\n",
        "\n",
        "    def display_info(self):\n",
        "        print('----------')\n",
        "        print(f\"Name: {self.name}\")\n",
        "        print(f\"Age: {self.age}\")\n",
        "        print(f\"Grade: {self.grade}\")\n",
        "        print(\"Courses Enrolled:\")\n",
        "        for course in self.courses:\n",
        "            print(f\"- {course}\")\n",
        "\n",
        "    def study(self):\n",
        "        print(f\"{self.name} is studying hard!\")\n",
        "\n"
      ],
      "metadata": {
        "id": "YU_ji4BNA6H1"
      },
      "execution_count": 48,
      "outputs": []
    },
    {
      "cell_type": "code",
      "source": [
        "# Creating student objects\n",
        "student1 = Student(name = \"Alice\", age = 16, grade =10)\n",
        "student2 = Student(\"Bob\", 15, 9)\n",
        "\n",
        "# Adding courses\n",
        "student1.add_course(\"Math\")\n",
        "student1.add_course(\"Science\")\n",
        "student2.add_course(\"History\")\n",
        "student2.add_course(\"English\")"
      ],
      "metadata": {
        "colab": {
          "base_uri": "https://localhost:8080/"
        },
        "id": "PSf_CBP7BnJ3",
        "outputId": "1698a276-fa4b-486c-c682-5b6a79375286"
      },
      "execution_count": 49,
      "outputs": [
        {
          "output_type": "stream",
          "name": "stdout",
          "text": [
            "Alice has enrolled in Math.\n",
            "Alice has enrolled in Science.\n",
            "Bob has enrolled in History.\n",
            "Bob has enrolled in English.\n"
          ]
        }
      ]
    },
    {
      "cell_type": "code",
      "source": [
        "# Displaying student information\n",
        "student1.display_info()\n",
        "student2.display_info()"
      ],
      "metadata": {
        "colab": {
          "base_uri": "https://localhost:8080/"
        },
        "id": "V1nHlj8jBpHb",
        "outputId": "87cdf6a1-5cf4-413f-9e56-e3e9c708268a"
      },
      "execution_count": 50,
      "outputs": [
        {
          "output_type": "stream",
          "name": "stdout",
          "text": [
            "----------\n",
            "Name: Alice\n",
            "Age: 16\n",
            "Grade: 10\n",
            "Courses Enrolled:\n",
            "- Math\n",
            "- Science\n",
            "----------\n",
            "Name: Bob\n",
            "Age: 15\n",
            "Grade: 9\n",
            "Courses Enrolled:\n",
            "- History\n",
            "- English\n"
          ]
        }
      ]
    },
    {
      "cell_type": "code",
      "source": [
        "# Students studying\n",
        "student1.study()\n",
        "student2.study()"
      ],
      "metadata": {
        "colab": {
          "base_uri": "https://localhost:8080/"
        },
        "id": "AzNOwHSGBqbh",
        "outputId": "636111f6-a9d8-4de5-9ba2-6e05851ec976"
      },
      "execution_count": 51,
      "outputs": [
        {
          "output_type": "stream",
          "name": "stdout",
          "text": [
            "Alice is studying hard!\n",
            "Bob is studying hard!\n"
          ]
        }
      ]
    },
    {
      "cell_type": "markdown",
      "source": [
        "### Subclass"
      ],
      "metadata": {
        "id": "Oc0H3nKdITYU"
      }
    },
    {
      "cell_type": "code",
      "source": [
        "class HighSchoolStudent(Student):\n",
        "    def __init__(self, name, age, grade, extracurricular):\n",
        "        super().__init__(name, age, grade)\n",
        "        self.extracurricular = extracurricular\n",
        "\n",
        "    def display_info(self):\n",
        "        super().display_info()\n",
        "        print(f\"Extracurricular Activity: {self.extracurricular}\")\n",
        "\n",
        "    def study(self):\n",
        "        print(f\"{self.name} is working on {self.extracurricular} at high school.\")"
      ],
      "metadata": {
        "id": "X3IkVdylBNX3"
      },
      "execution_count": 63,
      "outputs": []
    },
    {
      "cell_type": "code",
      "source": [
        "# Creating high school student objects\n",
        "student3 = HighSchoolStudent(name=\"Charlie\", age=17, grade=11, extracurricular=\"Basketball\")\n",
        "student4 = Student(\"Diana\", 18, 12)\n",
        "\n",
        "# Adding courses\n",
        "student3.add_course(\"Physics\")\n",
        "student3.add_course(\"Chemistry\")\n",
        "student4.add_course(\"Biology\")\n",
        "student4.add_course(\"Economics\")"
      ],
      "metadata": {
        "colab": {
          "base_uri": "https://localhost:8080/"
        },
        "id": "Wm5IbRrgBOEt",
        "outputId": "798ed87e-7ced-48ed-fc23-a1d58ab8bc10"
      },
      "execution_count": 64,
      "outputs": [
        {
          "output_type": "stream",
          "name": "stdout",
          "text": [
            "Charlie has enrolled in Physics.\n",
            "Charlie has enrolled in Chemistry.\n",
            "Diana has enrolled in Biology.\n",
            "Diana has enrolled in Economics.\n"
          ]
        }
      ]
    },
    {
      "cell_type": "code",
      "source": [
        "# Displaying high school student information\n",
        "student3.display_info()\n",
        "student4.display_info()\n"
      ],
      "metadata": {
        "colab": {
          "base_uri": "https://localhost:8080/"
        },
        "id": "Nd5-l7_SB2jU",
        "outputId": "a83cbddd-6e89-4ac4-9bba-c9e5582ba195"
      },
      "execution_count": 60,
      "outputs": [
        {
          "output_type": "stream",
          "name": "stdout",
          "text": [
            "----------\n",
            "Name: Charlie\n",
            "Age: 17\n",
            "Grade: 11\n",
            "Courses Enrolled:\n",
            "- Physics\n",
            "- Chemistry\n",
            "Extracurricular Activity: Basketball\n",
            "----------\n",
            "Name: Diana\n",
            "Age: 18\n",
            "Grade: 12\n",
            "Courses Enrolled:\n",
            "- Biology\n",
            "- Economics\n"
          ]
        }
      ]
    },
    {
      "cell_type": "code",
      "source": [
        "# High school students participating\n",
        "student3.study()\n",
        "student4.study()"
      ],
      "metadata": {
        "colab": {
          "base_uri": "https://localhost:8080/"
        },
        "id": "rxzWPRECB3uk",
        "outputId": "54751e20-2d75-4054-b8bc-96be1bb2edcd"
      },
      "execution_count": 65,
      "outputs": [
        {
          "output_type": "stream",
          "name": "stdout",
          "text": [
            "Charlie is working on Basketball at high school.\n",
            "Diana is studying hard!\n"
          ]
        }
      ]
    },
    {
      "cell_type": "markdown",
      "source": [
        "### How to understand class\n",
        "\n",
        "The concept of a class in Python, and object-oriented programming (OOP) in general, does indeed share some philosophical parallels with Plato's theory of Forms. Let's explore these connections:\n",
        "\n",
        "*Plato's Theory of Forms*\n",
        "\n",
        "Plato's theory posits that there is a realm of abstract, perfect \"Forms\" (or \"Ideas\") that exist independently of the physical world. These Forms are the true essence of things, and the physical objects we perceive are mere imperfect copies or shadows of these Forms. For example, the Form of \"Horse\" is the perfect, ideal horse, and all actual horses we see are imperfect instances of this ideal Form.\n",
        "\n",
        "*Classes in Python*\n",
        "\n",
        "In Python, a class is a blueprint or template for creating objects. It defines the attributes and behaviors (methods) that objects of that class will have. When you create an object (an instance) of a class, you are essentially creating a specific, concrete realization of that abstract blueprint.\n",
        "\n",
        "Parallels：\n",
        "\n",
        "1.   Abstract vs. Concrete:\n",
        "\n",
        "  - Plato: The Form is abstract and perfect, while the physical object is concrete and imperfect.\n",
        "\n",
        "  - Python: The class is abstract and defines the ideal structure, while the object (instance) is concrete and specific.\n",
        "2.   Essence vs. Instance:\n",
        "\n",
        "  - Plato: The Form represents the essence or true nature of something, and the physical object is an instance of that essence.\n",
        "\n",
        "  - Python: The class represents the essence or blueprint of an object, and the instance is a specific realization of that blueprint.\n",
        "\n",
        "3.  Perfection vs. Imperfection:\n",
        "\n",
        "  - Plato: The Form is perfect, and the physical object is imperfect.\n",
        "\n",
        "  - Python: The class is a perfect (or ideal) representation of what an object should be, and the instance may have variations or imperfections (e.g., different attribute values).\n",
        "\n",
        "4.  Universality vs. Particularity:\n",
        "\n",
        "  - Plato: The Form is universal and applies to all instances of that type.\n",
        "\n",
        "  - Python: The class is universal and applies to all instances created from it."
      ],
      "metadata": {
        "id": "crylR-2-GlKu"
      }
    }
  ]
}