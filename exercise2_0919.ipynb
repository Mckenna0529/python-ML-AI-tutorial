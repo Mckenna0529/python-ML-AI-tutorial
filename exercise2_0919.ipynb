{
  "nbformat": 4,
  "nbformat_minor": 0,
  "metadata": {
    "colab": {
      "provenance": [],
      "authorship_tag": "ABX9TyOEonbN5ucVTkT/pNi6OGfY",
      "include_colab_link": true
    },
    "kernelspec": {
      "name": "python3",
      "display_name": "Python 3"
    },
    "language_info": {
      "name": "python"
    }
  },
  "cells": [
    {
      "cell_type": "markdown",
      "metadata": {
        "id": "view-in-github",
        "colab_type": "text"
      },
      "source": [
        "<a href=\"https://colab.research.google.com/github/kaihe/python-ML-AI-tutorial/blob/kaihe_tutorial/exercise2_0919.ipynb\" target=\"_parent\"><img src=\"https://colab.research.google.com/assets/colab-badge.svg\" alt=\"Open In Colab\"/></a>"
      ]
    },
    {
      "cell_type": "markdown",
      "source": [
        "Keyboard shortcuts:\n",
        "* to move cell up ctrl+m K\n",
        "* to move cell down ctrl+m J\n",
        "\n",
        "* to create a new cell below ctrl+m b\n",
        "* to create a new cell above ctrl+m a\n",
        "\n",
        "* to delete a cell ctrl+m d\n",
        "* to convert a text cell to code cell ctrl + m + y\n",
        "* to convert a code cellt o text cell ctrl + m + m (double tap m)\n",
        "* to replace within cell ctrl + shift + h\n",
        "* to replace within entire notebook ctrl + h\n",
        "* to run current cell ctrl + enter"
      ],
      "metadata": {
        "id": "qaYmbYh4ILKT"
      }
    },
    {
      "cell_type": "markdown",
      "source": [
        "Exercise 1:\n",
        "\n",
        "Create a function that takes a list of integers and returns a new list with only the even numbers."
      ],
      "metadata": {
        "id": "BQHJy_DZrB3P"
      }
    },
    {
      "cell_type": "code",
      "source": [
        "input_list = [1, 2, 3, 4, 5, 6, 7, 8, 9, 10]\n",
        "output_list = []\n",
        "# write your code here"
      ],
      "metadata": {
        "id": "qrthOKmuwIFd"
      },
      "execution_count": 1,
      "outputs": []
    },
    {
      "cell_type": "code",
      "source": [
        "# run this cell to test your answer\n",
        "assert output_list == [2, 4, 6, 8, 10]\n",
        "print(\"Exercise 1 is correct.\")"
      ],
      "metadata": {
        "colab": {
          "base_uri": "https://localhost:8080/"
        },
        "id": "tHfu_WtdsBPB",
        "outputId": "dec49e0a-1281-4239-b834-3b98734b4cd8"
      },
      "execution_count": 2,
      "outputs": [
        {
          "output_type": "stream",
          "name": "stdout",
          "text": [
            "Exercise 1 is correct.\n"
          ]
        }
      ]
    },
    {
      "cell_type": "markdown",
      "source": [
        "Exercise 2:\n",
        "\n",
        "Nested Dictionary Manipulation\n",
        "\n",
        "Objective: Create a function that takes a nested dictionary representing a company's organizational structure (where each key is a department and each value is another dictionary containing employees and their roles) and returns a flattened dictionary with employee names as keys and their roles as values."
      ],
      "metadata": {
        "id": "zkt_xD_krlBl"
      }
    },
    {
      "cell_type": "code",
      "source": [
        "company = {\n",
        "    'HR': {'Alice': 'Manager', 'Bob': 'Assistant'},\n",
        "    'Engineering': {'Charlie': 'Developer', 'David': 'Tester'}\n",
        "}\n",
        "output = {}"
      ],
      "metadata": {
        "id": "XcvnJwvOskry"
      },
      "execution_count": 3,
      "outputs": []
    },
    {
      "cell_type": "code",
      "source": [
        "# run this cell to test your answer\n",
        "assert output == {'Alice': 'Manager', 'Bob': 'Assistant', 'Charlie': 'Developer', 'David': 'Tester'}\n",
        "print(\"Exercise 2 is correct\")"
      ],
      "metadata": {
        "colab": {
          "base_uri": "https://localhost:8080/"
        },
        "id": "ln7U0tDMso8y",
        "outputId": "2f042cfc-4364-4fae-866c-aa6acf38bd88"
      },
      "execution_count": 4,
      "outputs": [
        {
          "output_type": "stream",
          "name": "stdout",
          "text": [
            "Exercise 2 is correct\n"
          ]
        }
      ]
    },
    {
      "cell_type": "markdown",
      "source": [
        "Exercise 3:\n",
        "\n",
        "Dictionary Grouping\n",
        "\n",
        "Objective: Create a function that takes a list of dictionaries, each representing a person with keys 'name', 'age', and 'city', and returns a dictionary where the keys are cities and the values are lists of names of people living in those cities.\n"
      ],
      "metadata": {
        "id": "MaEv9Wm5rUp4"
      }
    },
    {
      "cell_type": "code",
      "source": [
        "people = [\n",
        "    {'name': 'Alice', 'age': 30, 'city': 'New York'},\n",
        "    {'name': 'Bob', 'age': 25, 'city': 'Los Angeles'},\n",
        "    {'name': 'Charlie', 'age': 35, 'city': 'New York'},\n",
        "    {'name': 'David', 'age': 22, 'city': 'Los Angeles'}\n",
        "]\n",
        "output={}"
      ],
      "metadata": {
        "id": "Qv4RlODOtCY9"
      },
      "execution_count": 5,
      "outputs": []
    },
    {
      "cell_type": "code",
      "source": [
        "# run this cell to test your answer\n",
        "assert output == {'New York': ['Alice', 'Charlie'], 'Los Angeles': ['Bob', 'David']}, \"Assert Error means that the answer is incorrect.\"\n",
        "print(\"Exercise 3 is correct.\")"
      ],
      "metadata": {
        "colab": {
          "base_uri": "https://localhost:8080/",
          "height": 176
        },
        "id": "hxtxzDt1tGiI",
        "outputId": "88baecd4-ba59-4920-8a7b-f8319e6b245a"
      },
      "execution_count": 6,
      "outputs": [
        {
          "output_type": "error",
          "ename": "AssertionError",
          "evalue": "Assert Error means that the answer is incorrect.",
          "traceback": [
            "\u001b[0;31m---------------------------------------------------------------------------\u001b[0m",
            "\u001b[0;31mAssertionError\u001b[0m                            Traceback (most recent call last)",
            "\u001b[0;32m<ipython-input-6-19e6072b62e6>\u001b[0m in \u001b[0;36m<cell line: 2>\u001b[0;34m()\u001b[0m\n\u001b[1;32m      1\u001b[0m \u001b[0;31m# run this cell to test your answer\u001b[0m\u001b[0;34m\u001b[0m\u001b[0;34m\u001b[0m\u001b[0m\n\u001b[0;32m----> 2\u001b[0;31m \u001b[0;32massert\u001b[0m \u001b[0moutput\u001b[0m \u001b[0;34m==\u001b[0m \u001b[0;34m{\u001b[0m\u001b[0;34m'New York'\u001b[0m\u001b[0;34m:\u001b[0m \u001b[0;34m[\u001b[0m\u001b[0;34m'Alice'\u001b[0m\u001b[0;34m,\u001b[0m \u001b[0;34m'Charlie'\u001b[0m\u001b[0;34m]\u001b[0m\u001b[0;34m,\u001b[0m \u001b[0;34m'Los Angeles'\u001b[0m\u001b[0;34m:\u001b[0m \u001b[0;34m[\u001b[0m\u001b[0;34m'Bob'\u001b[0m\u001b[0;34m,\u001b[0m \u001b[0;34m'David'\u001b[0m\u001b[0;34m]\u001b[0m\u001b[0;34m}\u001b[0m\u001b[0;34m,\u001b[0m \u001b[0;34m\"Assert Error means that the answer is incorrect.\"\u001b[0m\u001b[0;34m\u001b[0m\u001b[0;34m\u001b[0m\u001b[0m\n\u001b[0m\u001b[1;32m      3\u001b[0m \u001b[0mprint\u001b[0m\u001b[0;34m(\u001b[0m\u001b[0;34m\"Exercise 3 is correct.\"\u001b[0m\u001b[0;34m)\u001b[0m\u001b[0;34m\u001b[0m\u001b[0;34m\u001b[0m\u001b[0m\n",
            "\u001b[0;31mAssertionError\u001b[0m: Assert Error means that the answer is incorrect."
          ]
        }
      ]
    },
    {
      "cell_type": "markdown",
      "source": [
        "Exercise 4:\n",
        "\n",
        "Polymorphism with Shapes\n",
        "\n",
        "Objective: Create a base class Shape with a method area that returns 0. Create subclasses Rectangle and Circle that override the area method to calculate the area of a rectangle and a circle, respectively."
      ],
      "metadata": {
        "id": "1TcmBLK4tPGh"
      }
    },
    {
      "cell_type": "code",
      "source": [
        "class Shape:\n",
        "  pass\n",
        "\n",
        "class Rectangle:\n",
        "  pass\n",
        "\n",
        "class Circle:\n",
        "  pass\n",
        "\n",
        "rectangle = Rectangle(4, 5)\n",
        "circle = Circle(3)\n",
        "print(rectangle.area())  # Output: 20\n",
        "print(circle.area())  # Output: 28.274333882308138"
      ],
      "metadata": {
        "id": "mqi0oAWgtcCG"
      },
      "execution_count": null,
      "outputs": []
    },
    {
      "cell_type": "code",
      "source": [
        "# run this cell to test your answer\n",
        "assert rectangle.area() == 20\n",
        "assert circle.area() == 28.274333882308138\n",
        "print(\"Exercise 4 is correct.\")"
      ],
      "metadata": {
        "colab": {
          "base_uri": "https://localhost:8080/"
        },
        "id": "a9jNiPnPtgnS",
        "outputId": "6f554c98-9643-4f5b-dc45-0459ded60203"
      },
      "execution_count": null,
      "outputs": [
        {
          "output_type": "stream",
          "name": "stdout",
          "text": [
            "Exercise 9 is correct.\n"
          ]
        }
      ]
    },
    {
      "cell_type": "markdown",
      "source": [],
      "metadata": {
        "id": "LeK-t4N-IGxi"
      }
    },
    {
      "cell_type": "markdown",
      "source": [
        "Exercise 5:\n",
        "\n",
        "Complex Class with Composition\n",
        "\n",
        "Objective: Create a class Library that contains a list of Book objects. Each Book object should have attributes title, author, and year. Include methods to add books to the library, list all books, and find books by a specific author.\n"
      ],
      "metadata": {
        "id": "tTvd7hYouhnx"
      }
    },
    {
      "cell_type": "code",
      "source": [
        "class Library:\n",
        "  pass\n",
        "\n",
        "class Book:\n",
        "  pass\n",
        "\n",
        "library = Library()\n",
        "library.add_book(Book(\"1984\", \"George Orwell\", 1949))\n",
        "library.add_book(Book(\"To Kill a Mockingbird\", \"Harper Lee\", 1960))\n",
        "library.list_books()  # Output: [\"1984 by George Orwell (1949)\", \"To Kill a Mockingbird by Harper Lee (1960)\"]\n",
        "print(library.find_books_by_author(\"George Orwell\"))  # Output: [\"1984\"]"
      ],
      "metadata": {
        "id": "yk-FgiPf1rBx"
      },
      "execution_count": null,
      "outputs": []
    },
    {
      "cell_type": "markdown",
      "source": [
        "Exercise 6:\n",
        "\n",
        "Static Member for Tracking Instances\n",
        "\n",
        "Objective: Create a class Student with attributes name and id. Include a static member student_count that keeps track of the number of Student instances created. Also, include a static method get_student_count that returns the current count of students."
      ],
      "metadata": {
        "id": "EEsOG7OPvJU2"
      }
    },
    {
      "cell_type": "code",
      "source": [
        "class Student:\n",
        "  pass\n",
        "\n",
        "student1 = Student(\"Alice\", 1)\n",
        "student2 = Student(\"Bob\", 2)\n",
        "student3 = Student(\"Charlie\", 3)\n"
      ],
      "metadata": {
        "id": "BjgOKBdUvmxp",
        "colab": {
          "base_uri": "https://localhost:8080/",
          "height": 211
        },
        "outputId": "43e4dde6-bb4c-4ef3-fc31-3369d131e8cc"
      },
      "execution_count": 7,
      "outputs": [
        {
          "output_type": "error",
          "ename": "TypeError",
          "evalue": "Student() takes no arguments",
          "traceback": [
            "\u001b[0;31m---------------------------------------------------------------------------\u001b[0m",
            "\u001b[0;31mTypeError\u001b[0m                                 Traceback (most recent call last)",
            "\u001b[0;32m<ipython-input-7-07da4faab271>\u001b[0m in \u001b[0;36m<cell line: 4>\u001b[0;34m()\u001b[0m\n\u001b[1;32m      2\u001b[0m   \u001b[0;32mpass\u001b[0m\u001b[0;34m\u001b[0m\u001b[0;34m\u001b[0m\u001b[0m\n\u001b[1;32m      3\u001b[0m \u001b[0;34m\u001b[0m\u001b[0m\n\u001b[0;32m----> 4\u001b[0;31m \u001b[0mstudent1\u001b[0m \u001b[0;34m=\u001b[0m \u001b[0mStudent\u001b[0m\u001b[0;34m(\u001b[0m\u001b[0;34m\"Alice\"\u001b[0m\u001b[0;34m,\u001b[0m \u001b[0;36m1\u001b[0m\u001b[0;34m)\u001b[0m\u001b[0;34m\u001b[0m\u001b[0;34m\u001b[0m\u001b[0m\n\u001b[0m\u001b[1;32m      5\u001b[0m \u001b[0mstudent2\u001b[0m \u001b[0;34m=\u001b[0m \u001b[0mStudent\u001b[0m\u001b[0;34m(\u001b[0m\u001b[0;34m\"Bob\"\u001b[0m\u001b[0;34m,\u001b[0m \u001b[0;36m2\u001b[0m\u001b[0;34m)\u001b[0m\u001b[0;34m\u001b[0m\u001b[0;34m\u001b[0m\u001b[0m\n\u001b[1;32m      6\u001b[0m \u001b[0mstudent3\u001b[0m \u001b[0;34m=\u001b[0m \u001b[0mStudent\u001b[0m\u001b[0;34m(\u001b[0m\u001b[0;34m\"Charlie\"\u001b[0m\u001b[0;34m,\u001b[0m \u001b[0;36m3\u001b[0m\u001b[0;34m)\u001b[0m\u001b[0;34m\u001b[0m\u001b[0;34m\u001b[0m\u001b[0m\n",
            "\u001b[0;31mTypeError\u001b[0m: Student() takes no arguments"
          ]
        }
      ]
    },
    {
      "cell_type": "code",
      "source": [
        "# run this cell to test your answer\n",
        "assert Student.get_student_count() == 3\n",
        "print(\"Exercise 6 is correct.\")"
      ],
      "metadata": {
        "id": "wOrB_tBtvpSq"
      },
      "execution_count": null,
      "outputs": []
    }
  ]
}