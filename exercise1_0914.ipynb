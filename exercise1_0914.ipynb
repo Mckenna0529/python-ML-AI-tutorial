{
  "nbformat": 4,
  "nbformat_minor": 0,
  "metadata": {
    "colab": {
      "provenance": [],
      "authorship_tag": "ABX9TyM+TZJzQFrX5BSJ82HVhee3",
      "include_colab_link": true
    },
    "kernelspec": {
      "name": "python3",
      "display_name": "Python 3"
    },
    "language_info": {
      "name": "python"
    }
  },
  "cells": [
    {
      "cell_type": "markdown",
      "metadata": {
        "id": "view-in-github",
        "colab_type": "text"
      },
      "source": [
        "<a href=\"https://colab.research.google.com/github/kaihe/python-ML-AI-tutorial/blob/kaihe_tutorial/exercise1_0914.ipynb\" target=\"_parent\"><img src=\"https://colab.research.google.com/assets/colab-badge.svg\" alt=\"Open In Colab\"/></a>"
      ]
    },
    {
      "cell_type": "markdown",
      "source": [
        "Keyboard shortcuts:\n",
        "* to move cell up ctrl+m K\n",
        "* to move cell down ctrl+m J\n",
        "\n",
        "* to create a new cell below ctrl+m b\n",
        "* to create a new cell above ctrl+m a\n",
        "\n",
        "* to delete a cell ctrl+m d\n",
        "* to convert a text cell to code cell ctrl + m + y\n",
        "* to convert a code cellt o text cell ctrl + m + m (double tap m)\n",
        "* to replace within cell ctrl + shift + h\n",
        "* to replace within entire notebook ctrl + h\n",
        "* to run current cell ctrl + enter"
      ],
      "metadata": {
        "id": "qaYmbYh4ILKT"
      }
    },
    {
      "cell_type": "markdown",
      "source": [
        "Exercise 1:\n",
        "\n",
        "Create a variable named fruits and assign it a list of fruits containing the following fruit names as strings:\n",
        "\n",
        "mango, banana, guava, kiwi, and strawberry."
      ],
      "metadata": {
        "id": "BQHJy_DZrB3P"
      }
    },
    {
      "cell_type": "code",
      "source": [
        "# write your code here"
      ],
      "metadata": {
        "id": "qrthOKmuwIFd"
      },
      "execution_count": null,
      "outputs": []
    },
    {
      "cell_type": "code",
      "source": [
        "# run this cell to test your answer\n",
        "assert fruits == [\"mango\", \"banana\", \"guava\", \"kiwi\", \"strawberry\"], \"If you see an Assert Error, ensure the variable contains all the strings in the provided order\"\n",
        "print(\"Exercise 1 is correct.\")"
      ],
      "metadata": {
        "colab": {
          "base_uri": "https://localhost:8080/"
        },
        "id": "tHfu_WtdsBPB",
        "outputId": "0215653a-c8bc-4771-8655-20be9fc429e5"
      },
      "execution_count": null,
      "outputs": [
        {
          "output_type": "stream",
          "name": "stdout",
          "text": [
            "Exercise 1 is correct.\n"
          ]
        }
      ]
    },
    {
      "cell_type": "markdown",
      "source": [
        "Exercise 2:\n",
        "\n",
        "Given the following assigment of the list of fruits, add \"tomato\" to the end of the list."
      ],
      "metadata": {
        "id": "zkt_xD_krlBl"
      }
    },
    {
      "cell_type": "code",
      "source": [
        "fruits = [\"mango\", \"banana\", \"guava\", \"kiwi\", \"strawberry\"]\n",
        "# write your code here\n"
      ],
      "metadata": {
        "id": "XcvnJwvOskry"
      },
      "execution_count": null,
      "outputs": []
    },
    {
      "cell_type": "code",
      "source": [
        "# run this cell to test your answer\n",
        "assert fruits == [\"mango\", \"banana\", \"guava\", \"kiwi\", \"strawberry\", \"tomato\"], \"Ensure the variable contains all the strings in the right order\"\n",
        "print(\"Exercise 2 is correct\")"
      ],
      "metadata": {
        "colab": {
          "base_uri": "https://localhost:8080/"
        },
        "id": "ln7U0tDMso8y",
        "outputId": "de96f622-b807-4990-f295-2ee809a3eeae"
      },
      "execution_count": null,
      "outputs": [
        {
          "output_type": "stream",
          "name": "stdout",
          "text": [
            "Exercise 2 is correct\n"
          ]
        }
      ]
    },
    {
      "cell_type": "markdown",
      "source": [
        "Exercise 3:\n",
        "\n",
        "Given the list of numbers defined below, reverse the list of numbers that you created above.\n"
      ],
      "metadata": {
        "id": "MaEv9Wm5rUp4"
      }
    },
    {
      "cell_type": "code",
      "source": [
        "numbers = [1, 2, 3, 4, 5, 6, 7, 8, 9, 10]\n"
      ],
      "metadata": {
        "id": "Qv4RlODOtCY9"
      },
      "execution_count": null,
      "outputs": []
    },
    {
      "cell_type": "code",
      "source": [
        "# run this cell to test your answer\n",
        "assert numbers == [10, 9, 8, 7, 6, 5, 4, 3, 2, 1], \"Assert Error means that the answer is incorrect.\"\n",
        "print(\"Exercise 3 is correct.\")"
      ],
      "metadata": {
        "colab": {
          "base_uri": "https://localhost:8080/"
        },
        "id": "hxtxzDt1tGiI",
        "outputId": "05632581-98ea-4fee-b45b-113b57992fd2"
      },
      "execution_count": null,
      "outputs": [
        {
          "output_type": "stream",
          "name": "stdout",
          "text": [
            "Exercise 3 is correct.\n"
          ]
        }
      ]
    },
    {
      "cell_type": "markdown",
      "source": [
        "Exercise 4:\n",
        "\n",
        "Write the code necessary to sort the fruits in ***reverse*** alphabetical order"
      ],
      "metadata": {
        "id": "1TcmBLK4tPGh"
      }
    },
    {
      "cell_type": "code",
      "source": [
        "fruits = [\"mango\", \"banana\", \"guava\", \"kiwi\", \"strawberry\"]"
      ],
      "metadata": {
        "id": "mqi0oAWgtcCG"
      },
      "execution_count": null,
      "outputs": []
    },
    {
      "cell_type": "code",
      "source": [
        "# run this cell to test your answer\n",
        "assert fruits == [ 'strawberry', 'mango', 'kiwi', 'guava', 'banana']\n",
        "print(\"Exercise 9 is correct.\")"
      ],
      "metadata": {
        "colab": {
          "base_uri": "https://localhost:8080/"
        },
        "id": "a9jNiPnPtgnS",
        "outputId": "6f554c98-9643-4f5b-dc45-0459ded60203"
      },
      "execution_count": null,
      "outputs": [
        {
          "output_type": "stream",
          "name": "stdout",
          "text": [
            "Exercise 9 is correct.\n"
          ]
        }
      ]
    },
    {
      "cell_type": "markdown",
      "source": [],
      "metadata": {
        "id": "LeK-t4N-IGxi"
      }
    },
    {
      "cell_type": "markdown",
      "source": [
        "Exercise 5:\n",
        "\n",
        "Write a Python program to construct the following pattern, using a nested for loop.\n",
        "\n",
        "\n",
        "```\n",
        "*\n",
        "* *\n",
        "* * *\n",
        "* * * *\n",
        "* * * * *\n",
        "* * * *\n",
        "* * *\n",
        "* *\n",
        "*\n",
        "```\n",
        "\n",
        "\n",
        "\n"
      ],
      "metadata": {
        "id": "tTvd7hYouhnx"
      }
    },
    {
      "cell_type": "markdown",
      "source": [
        "Exercise 6:\n",
        "\n",
        "Write the code necessary to put all the numbers from 0 to 6 except 3 and 6 into a list my_numbers. Hint: use if else statement\n"
      ],
      "metadata": {
        "id": "EEsOG7OPvJU2"
      }
    },
    {
      "cell_type": "code",
      "source": [
        "my_numbers = []"
      ],
      "metadata": {
        "id": "BjgOKBdUvmxp"
      },
      "execution_count": null,
      "outputs": []
    },
    {
      "cell_type": "code",
      "source": [
        "# run this cell to test your answer\n",
        "assert my_numbers == [0,1,2,4,5]\n",
        "print(\"Exercise 6 is correct.\")"
      ],
      "metadata": {
        "id": "wOrB_tBtvpSq"
      },
      "execution_count": null,
      "outputs": []
    }
  ]
}